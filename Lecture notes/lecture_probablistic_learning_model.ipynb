{
 "cells": [
  {
   "cell_type": "markdown",
   "metadata": {},
   "source": [
    "# Naive Bayes Classifier"
   ]
  },
  {
   "cell_type": "markdown",
   "metadata": {},
   "source": [
    "## ELI5 Explanation"
   ]
  },
  {
   "cell_type": "markdown",
   "metadata": {},
   "source": [
    "Imagine you have a big bowl of fruit with apples, bananas, and oranges. You pick a fruit without looking and try to guess what it is based on some clues. For example, you feel the fruit and think, \"Hmm, it's long and bendy, so it might be a banana.\" A Naive Bayes classifier does a similar thing: it makes guesses based on clues it has seen before."
   ]
  },
  {
   "cell_type": "markdown",
   "metadata": {},
   "source": [
    "## ELI a First-Year Computer Science Student"
   ]
  },
  {
   "cell_type": "markdown",
   "metadata": {},
   "source": [
    "Naive Bayes is a probabilistic classifier, meaning it predicts classes based on the probability of them occurring given some input features. It’s based on Bayes’ Theorem, which relates current evidence to prior beliefs.\n",
    "\n",
    "The formula for Bayes' Theorem is:\n",
    "\n",
    "\\[ P(A|B) = \\frac{P(B|A) \\times P(A)}{P(B)} \\]\n",
    "\n",
    "Where:\n",
    "- \\( P(A|B) \\) is the probability of hypothesis A being true, given evidence B.\n",
    "- \\( P(B|A) \\) is the probability of evidence B occurring, given hypothesis A is true.\n",
    "- \\( P(A) \\) is the probability of hypothesis A being true (this is called the prior).\n",
    "- \\( P(B) \\) is the probability of the evidence.\n",
    "\n",
    "In the context of Naive Bayes classifier:\n",
    "- \\( A \\) is a particular class we're trying to figure out.\n",
    "- \\( B \\) are the features of our data.\n",
    "\n",
    "The \"naive\" part comes from an assumption that all features are independent of each other, given the class. This is a simplification that makes calculations tractable, but it might not hold in real-world scenarios. Yet, despite this simplification, Naive Bayes can be surprisingly effective in many situations, especially text classification like spam detection.\n",
    "\n",
    "When you want to classify a new data point, the Naive Bayes classifier will compute the probability of that point belonging to each class, and then it will pick the class with the highest probability.\n",
    "\n",
    "In practice, for computational reasons, we often work with the log probabilities rather than the actual probabilities, because multiplying many small probabilities together can lead to numerical instability."
   ]
  }
 ],
 "metadata": {
  "kernelspec": {
   "display_name": "Python 3",
   "language": "python",
   "name": "python3"
  },
  "language_info": {
   "codemirror_mode": {
    "name": "ipython",
    "version": 3
   },
   "file_extension": ".py",
   "mimetype": "text/x-python",
   "name": "python",
   "nbconvert_exporter": "python",
   "pygments_lexer": "ipython3",
   "version": "3.8.5"
  }
 },
 "nbformat": 4,
 "nbformat_minor": 4
}
